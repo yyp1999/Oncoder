{
 "cells": [
  {
   "cell_type": "code",
   "execution_count": null,
   "id": "5cb0ffcc-00e3-4d0d-9d25-128974cd40ae",
   "metadata": {},
   "outputs": [],
   "source": [
    "import Oncoder\n",
    "import torch\n",
    "import pandas as pd\n",
    "from Oncoder import Autoencoder\n",
    "device = torch.device(\"cuda\" if torch.cuda.is_available() else \"cpu\")"
   ]
  },
  {
   "cell_type": "markdown",
   "id": "be189b6c-48b6-4f6d-9c54-49a594a9b91d",
   "metadata": {},
   "source": [
    "Training Oncoder to learn a new methylation atlas based on simulation data and deconvoluting the simulation data."
   ]
  },
  {
   "cell_type": "code",
   "execution_count": null,
   "id": "b4be9f10-490c-4548-b6b2-e826a75bffed",
   "metadata": {},
   "outputs": [],
   "source": [
    "refdata = 'data/reference_data.tsv'\n",
    "train_x,train_y = Oncoder.generate_simulated_data(refdata,prior=[0.8,0.2],samplenum=1000,random_state=1)\n",
    "test_x,test_y = Oncoder.generate_simulated_data(refdata,prior=[0.8,0.2],samplenum=100,random_state=1)"
   ]
  },
  {
   "cell_type": "code",
   "execution_count": null,
   "id": "edcb059e-25b3-4c94-92cd-896edb27bd6a",
   "metadata": {},
   "outputs": [],
   "source": [
    "model=Oncoder.train_Oncoder(train_x,train_y,refdata,model_name='Oncoder_test',batch_size=128,epochs=256)"
   ]
  },
  {
   "cell_type": "code",
   "execution_count": null,
   "id": "8f9dece7-c8ea-4652-b399-e9bf77bb17e1",
   "metadata": {},
   "outputs": [],
   "source": [
    "pred_y,methyatlas = Oncoder.predict(test_x,model)"
   ]
  },
  {
   "cell_type": "code",
   "execution_count": null,
   "id": "16da3843-9334-4c18-9819-8df0bbf3f13c",
   "metadata": {},
   "outputs": [],
   "source": [
    "pred_y"
   ]
  },
  {
   "cell_type": "markdown",
   "id": "782999d7-41b0-4a86-9fe6-a9a08f0daffc",
   "metadata": {},
   "source": [
    "Loading Oncoder for predicting read data."
   ]
  },
  {
   "cell_type": "code",
   "execution_count": null,
   "id": "f9ccab75-5838-4244-a4b6-00bc023b8729",
   "metadata": {},
   "outputs": [],
   "source": [
    "model = torch.load('model/Oncoder.pth',map_location=device)"
   ]
  },
  {
   "cell_type": "code",
   "execution_count": null,
   "id": "5e7e5028-dd73-4da5-ac9b-4e1289503c05",
   "metadata": {},
   "outputs": [],
   "source": [
    "Normal_data = pd.read_csv('data/normal_data.tsv',sep='\\t',index_col=0,header=0).T.values\n",
    "HCC_data = pd.read_csv('data/HCC_data.tsv',sep='\\t',index_col=0,header=0).T.values"
   ]
  },
  {
   "cell_type": "code",
   "execution_count": null,
   "id": "aedf6551-ac2f-4b59-bc06-a0918735c4b7",
   "metadata": {},
   "outputs": [],
   "source": [
    "pred_y,methyatlas = Oncoder.predict(Normal_data,model)"
   ]
  },
  {
   "cell_type": "code",
   "execution_count": null,
   "id": "44c6e394-d771-4a7a-af77-5d315ec491c2",
   "metadata": {},
   "outputs": [],
   "source": [
    "pred_y"
   ]
  },
  {
   "cell_type": "markdown",
   "id": "1e1acd10-9ec1-42a0-afb7-38bef62e39be",
   "metadata": {},
   "source": [
    "Loading Oncoder for 9 CpG version to distinguish normal and HCC"
   ]
  },
  {
   "cell_type": "code",
   "execution_count": null,
   "id": "c72cd488-b79c-45de-b9df-ccc327901139",
   "metadata": {},
   "outputs": [],
   "source": [
    "model = torch.load('model/Oncoder_9CpG.pth',map_location=device)"
   ]
  },
  {
   "cell_type": "code",
   "execution_count": null,
   "id": "3cdcc56f-3b17-46d5-b7f8-794a3023b881",
   "metadata": {},
   "outputs": [],
   "source": [
    "n=pd.read_csv(\"data/HCC_9CpG.tsv\",index_col=0,header=0,sep='\\t')"
   ]
  },
  {
   "cell_type": "code",
   "execution_count": null,
   "id": "4f6f9e2f-fe8f-42bf-bedc-98fbff390ff9",
   "metadata": {},
   "outputs": [],
   "source": [
    "pred_y0,_=Oncoder.predict(n.filter(like='noHCC').T.values,model)\n",
    "pred_y1,_=Oncoder.predict(n.filter(regex='^HCC(?!.*noHCC)').T.values,model)"
   ]
  },
  {
   "cell_type": "code",
   "execution_count": null,
   "id": "ec18aa18-5cb7-411f-8f87-8a53d2dfe527",
   "metadata": {},
   "outputs": [],
   "source": [
    "import matplotlib.pyplot as plt\n",
    "import seaborn as sns\n",
    "from scipy import stats\n",
    "import numpy as np\n",
    "sns.set(style='white')"
   ]
  },
  {
   "cell_type": "code",
   "execution_count": null,
   "id": "32f07b66-0ad7-4e14-bbc0-e7879abbda8b",
   "metadata": {},
   "outputs": [],
   "source": [
    "data1 = pred_y0[:,1]\n",
    "data2 = pred_y1[:,1]\n",
    "_, p_value1 = stats.ranksums(data1, data2)\n",
    "all_data = [data1, data2]\n",
    "\n",
    "plt.figure(figsize=(8, 6))\n",
    "sns.boxplot(x='variable', y='value', data=pd.melt(pd.DataFrame(all_data).T), palette='Set2',width = 0.3,fliersize=3)\n",
    "plt.text(0.5, 0.65, f'$p$ = {\"{:.2e}\".format(p_value1)}', fontsize=15, color='r', ha='center')\n",
    "plt.xlabel(' ')\n",
    "plt.ylabel('Predicted tumor fraction',fontsize =16)\n",
    "plt.xticks(ticks=[0, 1], labels=['normal', 'HCC'],fontsize =16)\n",
    "plt.yticks(fontsize=14)\n",
    "plt.show()"
   ]
  },
  {
   "cell_type": "code",
   "execution_count": null,
   "id": "84986439",
   "metadata": {},
   "outputs": [],
   "source": [
    "from sklearn.metrics import roc_curve, auc,accuracy_score\n",
    "y_true = np.concatenate([np.zeros(len(data1)),np.ones(len(data2))])\n",
    "predictions = np.concatenate([data1, data2])\n",
    "fpr, tpr, thresholds = roc_curve(y_true, predictions)\n",
    "roc_auc = auc(fpr, tpr)\n",
    "plt.figure()\n",
    "plt.plot(fpr, tpr, color='darkorange', lw=2, label='ROC curve (area = %0.2f)' % roc_auc)\n",
    "plt.plot([0, 1], [0, 1], color='navy', lw=2, linestyle='--')\n",
    "plt.xlim([0.0, 1.0])\n",
    "plt.ylim([0.0, 1.05])\n",
    "plt.xlabel('False Positive Rate')\n",
    "plt.ylabel('True Positive Rate')\n",
    "plt.title('Receiver Operating Characteristic Curve')\n",
    "plt.legend(loc=\"lower right\")\n",
    "plt.show()\n",
    "optimal_idx = np.argmax(tpr - fpr)\n",
    "optimal_threshold = thresholds[optimal_idx]\n",
    "print(\"Optimal threshold:\", optimal_threshold)\n",
    "predicted_labels = (predictions >= optimal_threshold).astype(int)\n",
    "accuracy = accuracy_score(y_true, predicted_labels)\n",
    "print(\"Accuracy at optimal threshold:\", accuracy)\n",
    "optimal_sensitivity = tpr[optimal_idx]\n",
    "optimal_specificity = 1 - fpr[optimal_idx]\n",
    "print(\"Optimal sensitivity:\", optimal_sensitivity)\n",
    "print(\"Optimal specificity:\", optimal_specificity)"
   ]
  },
  {
   "cell_type": "markdown",
   "id": "27c78719-f642-42d6-8dbf-6c6dfa06b0c1",
   "metadata": {},
   "source": [
    "Loading Oncoder to distinguish the patients with HCC and the patients with HCC & Cirrhosis"
   ]
  },
  {
   "cell_type": "code",
   "execution_count": null,
   "id": "28b8c27f-a20e-4246-956d-f54b8802453f",
   "metadata": {},
   "outputs": [],
   "source": [
    "model = torch.load(\"model/Oncoder.pth\",map_location=device)"
   ]
  },
  {
   "cell_type": "code",
   "execution_count": null,
   "id": "28c21b2b-1c5c-41fd-8ae0-f58bc01e83d3",
   "metadata": {},
   "outputs": [],
   "source": [
    "HCC = pd.read_csv('data/HCC_data.tsv',sep='\\t',index_col=0)\n",
    "Cirrhosis = pd.read_csv('data/Cirrhosis_data.tsv',sep='\\t',index_col=0)\n",
    "HCC = HCC.T.values\n",
    "Cirrhosis = Cirrhosis.T.values\n",
    "pred_HCC,methyHCC = Oncoder.predict(HCC,model) \n",
    "pred_Cir,methyCir = Oncoder.predict(Cirrhosis,model) "
   ]
  },
  {
   "cell_type": "code",
   "execution_count": null,
   "id": "1000b04e-301b-44e8-85df-e498eabca00a",
   "metadata": {},
   "outputs": [],
   "source": [
    "data1 = pred_Cir[:,1]\n",
    "data2 = pred_HCC[:,1]\n",
    "_, p_value = stats.ranksums(data1, data2)\n",
    "all_data = [data1, data2]\n",
    "\n",
    "plt.figure(figsize=(8, 6))\n",
    "sns.boxplot(x='variable', y='value', data=pd.melt(pd.DataFrame(all_data).T), palette='Set2',width = 0.3,fliersize=1)\n",
    "plt.text(0.5, 0.3, f'$p$ = {p_value:.4f}', fontsize=15, color='r', ha='center')\n",
    "plt.xlabel(' ')\n",
    "plt.ylabel('Predicted tumor fraction',fontsize=16)\n",
    "plt.xticks(ticks=[0, 1], labels=['Cirrhosis alone', 'Cirrhosis & HCC'],fontsize=16)\n",
    "plt.yticks(fontsize=14)\n",
    "plt.show()"
   ]
  },
  {
   "cell_type": "code",
   "execution_count": null,
   "id": "0a9dab2b",
   "metadata": {},
   "outputs": [],
   "source": [
    "from sklearn.metrics import roc_curve, auc\n",
    "y_true = np.concatenate([np.zeros(len(data1)),np.ones(len(data2))])\n",
    "predictions = np.concatenate([data1, data2])\n",
    "fpr, tpr, thresholds = roc_curve(y_true, predictions)\n",
    "roc_auc = auc(fpr, tpr)\n",
    "plt.figure()\n",
    "plt.plot(fpr, tpr, color='darkorange', lw=2, label='ROC curve (area = %0.2f)' % roc_auc)\n",
    "plt.plot([0, 1], [0, 1], color='navy', lw=2, linestyle='--')\n",
    "plt.xlim([0.0, 1.0])\n",
    "plt.ylim([0.0, 1.05])\n",
    "plt.xlabel('False Positive Rate')\n",
    "plt.ylabel('True Positive Rate')\n",
    "plt.title('Receiver Operating Characteristic Curve')\n",
    "plt.legend(loc=\"lower right\")\n",
    "plt.show()\n",
    "optimal_idx = np.argmax(tpr - fpr)\n",
    "optimal_threshold = thresholds[optimal_idx]\n",
    "print(\"Optimal threshold:\", optimal_threshold)\n",
    "optimal_sensitivity = tpr[optimal_idx]\n",
    "optimal_specificity = 1 - fpr[optimal_idx]\n",
    "print(\"Optimal sensitivity:\", optimal_sensitivity)\n",
    "print(\"Optimal specificity:\", optimal_specificity)"
   ]
  },
  {
   "cell_type": "markdown",
   "id": "2e4be64a-1f3d-45e5-8390-e1f5adc0c7e2",
   "metadata": {},
   "source": [
    "Loading Oncoder for 7 CpG version (trianed on simulation data) to detect tumor"
   ]
  },
  {
   "cell_type": "code",
   "execution_count": null,
   "id": "8b81a567-50ba-4b6c-90b6-a791b9eccfd9",
   "metadata": {},
   "outputs": [],
   "source": [
    "model = torch.load(\"model/Oncoder_7CpG_S.pth\",map_location=device)"
   ]
  },
  {
   "cell_type": "code",
   "execution_count": null,
   "id": "d56972c6-0681-4c3c-821d-7e6c8f5413b8",
   "metadata": {},
   "outputs": [],
   "source": [
    "xu_data = pd.read_csv('data/xu_data.tsv',sep='\\t',index_col=0)\n",
    "xu_data.columns = [i.split('.')[0] for i in xu_data.columns.tolist()]"
   ]
  },
  {
   "cell_type": "code",
   "execution_count": null,
   "id": "e4192a05-d415-44a8-84fe-5764ec402e18",
   "metadata": {},
   "outputs": [],
   "source": [
    "pred_y0,_=Oncoder.predict(xu_data.filter(like='0').T.values,model)\n",
    "pred_y1,_=Oncoder.predict(xu_data.filter(like='1').T.values,model)\n",
    "pred_y2,_=Oncoder.predict(xu_data.filter(like='2').T.values,model)\n",
    "pred_y3,_=Oncoder.predict(xu_data.filter(like='3').T.values,model)\n",
    "pred_y4,_=Oncoder.predict(xu_data.filter(like='4').T.values,model)"
   ]
  },
  {
   "cell_type": "code",
   "execution_count": null,
   "id": "018fc1a5-3166-450b-848f-6cd3290c94bc",
   "metadata": {},
   "outputs": [],
   "source": [
    "data1 = pred_y0[:,1]\n",
    "data2 = pred_y1[:,1]\n",
    "data3 = pred_y2[:,1]\n",
    "data4 = pred_y3[:,1]\n",
    "data5 = pred_y4[:,1]\n",
    "_, p_value1 = stats.ranksums(data1, data2)\n",
    "_, p_value2 = stats.ranksums(data2, data3)\n",
    "_, p_value3 = stats.ranksums(data3, data4)\n",
    "_, p_value4 = stats.ranksums(data4, data5)\n",
    "all_data = [data1, data2, data3, data4, data5]\n",
    "\n",
    "plt.figure(figsize=(8, 6))\n",
    "sns.boxplot(x='variable', y='value', data=pd.melt(pd.DataFrame(all_data).T), palette='Set2',width = 0.3,fliersize=1)\n",
    "plt.text(0.5, 0.23, f'$p$ = {\"{:.2e}\".format(p_value1)}', fontsize=13, color='r', ha='center')\n",
    "plt.text(1.5, 0.38, f'$p$ = {\"{:.2e}\".format(p_value2)}', fontsize=13, color='r', ha='center')\n",
    "plt.text(2.5, 0.57, f'$p$ = {\"{:.2e}\".format(p_value3)}', fontsize=13, color='r', ha='center')\n",
    "plt.text(3.5, 0.85, f'$p$ = {\"{:.2e}\".format(p_value4)}', fontsize=13, color='r', ha='center')\n",
    "plt.ylim(-0.05,1.05)\n",
    "plt.xlabel(' ')\n",
    "plt.ylabel('Predicted tumor fraction',fontsize=16)\n",
    "plt.xticks(ticks=[0, 1,2,3,4], labels=['normal', 'stage1','stage2','stage3','stage4'],fontsize=16)\n",
    "plt.yticks(fontsize=14)\n",
    "plt.show()"
   ]
  },
  {
   "cell_type": "markdown",
   "id": "3767293d-6995-4015-a654-f8550654e364",
   "metadata": {},
   "source": [
    "Loading Oncoder for 7 CpG version (trained on read data) to detect tumor"
   ]
  },
  {
   "cell_type": "code",
   "execution_count": null,
   "id": "ff14e761-02b6-44d4-b610-1cb34f8af8e3",
   "metadata": {},
   "outputs": [],
   "source": [
    "model = torch.load(\"model/Oncoder_7CpG_R.pth\",map_location=device)"
   ]
  },
  {
   "cell_type": "code",
   "execution_count": null,
   "id": "31417116-405f-4352-83a2-191bfc28a826",
   "metadata": {},
   "outputs": [],
   "source": [
    "xu_data = pd.read_csv(\"data/test_xu_data.tsv\",index_col=0,sep='\\t')\n",
    "xu_data.columns = [i.split('.')[0] for i in xu_data.columns.tolist()]"
   ]
  },
  {
   "cell_type": "code",
   "execution_count": null,
   "id": "7b2cc08c-a744-4e25-9285-c158db21baaa",
   "metadata": {},
   "outputs": [],
   "source": [
    "pred_y0,_=Oncoder.predict(xu_data.filter(like='0').T.values,model)\n",
    "pred_y1,_=Oncoder.predict(xu_data.filter(like='1').T.values,model)\n",
    "pred_y2,_=Oncoder.predict(xu_data.filter(like='2').T.values,model)\n",
    "pred_y3,_=Oncoder.predict(xu_data.filter(like='3').T.values,model)\n",
    "pred_y4,_=Oncoder.predict(xu_data.filter(like='4').T.values,model)"
   ]
  },
  {
   "cell_type": "code",
   "execution_count": null,
   "id": "572977a5-5304-4ced-8c0a-ffcf98529ba5",
   "metadata": {},
   "outputs": [],
   "source": [
    "data1 = pred_y0[:,1]\n",
    "data2 = pred_y1[:,1]\n",
    "data3 = pred_y2[:,1]\n",
    "data4 = pred_y3[:,1]\n",
    "data5 = pred_y4[:,1]\n",
    "_, p_value1 = stats.ranksums(data1, data2)\n",
    "_, p_value2 = stats.ranksums(data2, data3)\n",
    "_, p_value3 = stats.ranksums(data3, data4)\n",
    "_, p_value4 = stats.ranksums(data4, data5)\n",
    "all_data = [data1, data2, data3, data4, data5]\n",
    "\n",
    "plt.figure(figsize=(8, 6))\n",
    "sns.boxplot(x='variable', y='value', data=pd.melt(pd.DataFrame(all_data).T), palette='Set2',width = 0.3,fliersize=1)\n",
    "plt.text(0.5, 0.23, f'$p$ = {\"{:.2e}\".format(p_value1)}', fontsize=13, color='r', ha='center')\n",
    "plt.text(1.5, 0.31, f'$p$ = {\"{:.2e}\".format(p_value2)}', fontsize=13, color='r', ha='center')\n",
    "plt.text(2.5, 0.34, f'$p$ = {\"{:.2e}\".format(p_value3)}', fontsize=13, color='r', ha='center')\n",
    "plt.text(3.5, 0.36, f'$p$ = {\"{:.2e}\".format(p_value4)}', fontsize=13, color='r', ha='center')\n",
    "plt.ylim(-0.05,1.05)\n",
    "plt.xlabel(' ')\n",
    "plt.ylabel('Predicted tumor fraction',fontsize=16)\n",
    "plt.xticks(ticks=[0, 1,2,3,4], labels=['normal', 'stage1','stage2','stage3','stage4'],fontsize=16)\n",
    "plt.yticks(fontsize=14)\n",
    "plt.show()"
   ]
  },
  {
   "cell_type": "code",
   "execution_count": null,
   "id": "5a03ec89",
   "metadata": {},
   "outputs": [],
   "source": [
    "from sklearn.metrics import roc_curve, auc, accuracy_score\n",
    "y_true = np.concatenate([np.zeros(len(data1)),np.ones(len(data2)),np.ones(len(data3)),np.ones(len(data4)),np.ones(len(data5))])\n",
    "predictions = np.concatenate([data1, data2,data3,data4,data5])\n",
    "fpr, tpr, thresholds = roc_curve(y_true, predictions)\n",
    "roc_auc = auc(fpr, tpr)\n",
    "plt.figure()\n",
    "plt.plot(fpr, tpr, color='darkorange', lw=2, label='ROC curve (area = %0.2f)' % roc_auc)\n",
    "plt.plot([0, 1], [0, 1], color='navy', lw=2, linestyle='--')\n",
    "plt.xlim([0.0, 1.0])\n",
    "plt.ylim([0.0, 1.05])\n",
    "plt.xlabel('False Positive Rate')\n",
    "plt.ylabel('True Positive Rate')\n",
    "plt.title('Receiver Operating Characteristic Curve')\n",
    "plt.legend(loc=\"lower right\")\n",
    "plt.show()\n",
    "optimal_idx = np.argmax(tpr - fpr)\n",
    "optimal_threshold = thresholds[optimal_idx]\n",
    "print(\"Optimal threshold:\", optimal_threshold)\n",
    "predicted_labels = (predictions >= optimal_threshold).astype(int)\n",
    "accuracy = accuracy_score(y_true, predicted_labels)\n",
    "print(\"Accuracy at optimal threshold:\", accuracy)\n",
    "optimal_sensitivity = tpr[optimal_idx]\n",
    "optimal_specificity = 1 - fpr[optimal_idx]\n",
    "print(\"Optimal sensitivity:\", optimal_sensitivity)\n",
    "print(\"Optimal specificity:\", optimal_specificity)"
   ]
  },
  {
   "cell_type": "markdown",
   "id": "e3f88197-ef6c-43d5-bd9e-715a4e9d02a2",
   "metadata": {},
   "source": [
    "Changes in predicted tumor fractions before and after treatment were assessed in two groups: patients sensitive and resistant to abiraterone acetate."
   ]
  },
  {
   "cell_type": "code",
   "execution_count": null,
   "id": "d825810c-28f5-45d4-adce-1a0492f9fe00",
   "metadata": {},
   "outputs": [],
   "source": [
    "sensitive=pd.read_csv(\"data/sensitive_group.csv\",header=0)\n",
    "resistant=pd.read_csv(\"data/resistant_group.csv\",header=0)"
   ]
  },
  {
   "cell_type": "code",
   "execution_count": null,
   "id": "0d059b34-a862-43ed-9773-275bde2f305a",
   "metadata": {},
   "outputs": [],
   "source": [
    "from scipy.stats import wilcoxon"
   ]
  },
  {
   "cell_type": "code",
   "execution_count": null,
   "id": "5c9780c5-6e3f-41eb-a5a4-29d6828af07d",
   "metadata": {},
   "outputs": [],
   "source": [
    "y_before =sensitive.groupby('patientsid').first()['Oncoder_10'].tolist() #Oncoder_10 : the result of  Oncoder for PRAD version based on top 10% stable marker\n",
    "y_after = sensitive.groupby('patientsid').last()['Oncoder_10'].tolist()   \n",
    "x_before = 0.25  \n",
    "x_after = 0.75\n",
    "_, p_value = wilcoxon(y_before, y_after)\n",
    "\n",
    "plt.figure(figsize=(8, 6)) \n",
    "  \n",
    "for i in range(len(y_before)):  \n",
    "    plt.scatter([x_before, x_after], [y_before[i], y_after[i]], label=f'Patient {i+1}',color='#009dff')  \n",
    "    plt.plot([x_before, x_after], [y_before[i], y_after[i]], color='#009dff')  \n",
    "  \n",
    "plt.ylabel('Predicted tumor fraction',fontsize=16)  \n",
    "plt.text(0.5, 0.6, f'$p$ = {p_value:.4f}', fontsize=15, color='r', ha='center')\n",
    "plt.ylim(0,0.7)\n",
    "plt.xlim(0.1,0.9)\n",
    "plt.yticks(fontsize=14)   \n",
    "plt.xticks([x_before, x_after], ['Before', 'After'],fontsize=16)  \n",
    "plt.title(\"Treatment sensitive\",fontsize=16)\n",
    "plt.show()"
   ]
  },
  {
   "cell_type": "code",
   "execution_count": null,
   "id": "15e5bc8d-db45-4317-8816-a36c206a4f8e",
   "metadata": {},
   "outputs": [],
   "source": [
    "y_before =resistant.groupby('patientsid').first()['Oncoder_10'].tolist()  \n",
    "y_after = resistant.groupby('patientsid').last()['Oncoder_10'].tolist()   \n",
    "x_before = 0.25  \n",
    "x_after = 0.75\n",
    "_, p_value = wilcoxon(y_before, y_after)\n",
    "\n",
    "plt.figure(figsize=(8, 6))\n",
    "  \n",
    "for i in range(len(y_before)):  \n",
    "    plt.scatter([x_before, x_after], [y_before[i], y_after[i]], label=f'Patient {i+1}',color='#ffc4a1')  \n",
    "    plt.plot([x_before, x_after], [y_before[i], y_after[i]], color='#ffc4a1')  \n",
    "  \n",
    "plt.ylabel('Predicted tumor fraction',fontsize=16)  \n",
    "plt.ylim(0,0.7)\n",
    "plt.xlim(0.1,0.9)\n",
    "plt.text(0.5, 0.6, f'$p$ = {p_value:.4f}', fontsize=15, color='r', ha='center')\n",
    "plt.yticks(fontsize=14)   \n",
    "plt.xticks([x_before, x_after], ['Before', 'After'],fontsize=16)  \n",
    "plt.title(\"Treatment resistant\",fontsize=16)\n",
    "plt.show()"
   ]
  }
 ],
 "metadata": {
  "kernelspec": {
   "display_name": "Python 3 (ipykernel)",
   "language": "python",
   "name": "python3"
  },
  "language_info": {
   "codemirror_mode": {
    "name": "ipython",
    "version": 3
   },
   "file_extension": ".py",
   "mimetype": "text/x-python",
   "name": "python",
   "nbconvert_exporter": "python",
   "pygments_lexer": "ipython3",
   "version": "3.8.18"
  }
 },
 "nbformat": 4,
 "nbformat_minor": 5
}
