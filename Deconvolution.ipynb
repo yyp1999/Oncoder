{
 "cells": [
  {
   "cell_type": "code",
   "execution_count": null,
   "id": "5cb0ffcc-00e3-4d0d-9d25-128974cd40ae",
   "metadata": {},
   "outputs": [],
   "source": [
    "import Oncoder\n",
    "import torch\n",
    "import pandas as pd\n",
    "from Oncoder import Autoencoder\n",
    "device = torch.device(\"cuda\" if torch.cuda.is_available() else \"cpu\")"
   ]
  },
  {
   "cell_type": "markdown",
   "id": "be189b6c-48b6-4f6d-9c54-49a594a9b91d",
   "metadata": {},
   "source": [
    "Training Oncoder to learn a new methylation atlas based on simulation data and deconvoluting the simulation data."
   ]
  },
  {
   "cell_type": "code",
   "execution_count": null,
   "id": "b4be9f10-490c-4548-b6b2-e826a75bffed",
   "metadata": {},
   "outputs": [],
   "source": [
    "refdata = 'data/reference_data.tsv'\n",
    "train_x,train_y = Oncoder.generate_simulated_data(refdata,prior=[0.8,0.2],samplenum=1000,random_state=1)\n",
    "test_x,test_y = Oncoder.generate_simulated_data(refdata,prior=[0.8,0.2],samplenum=100,random_state=1)"
   ]
  },
  {
   "cell_type": "code",
   "execution_count": null,
   "id": "edcb059e-25b3-4c94-92cd-896edb27bd6a",
   "metadata": {},
   "outputs": [],
   "source": [
    "model=Oncoder.train_Oncoder(train_x,train_y,refdata,model_name='Oncoder_test',batch_size=128,epochs=256)"
   ]
  },
  {
   "cell_type": "code",
   "execution_count": null,
   "id": "8f9dece7-c8ea-4652-b399-e9bf77bb17e1",
   "metadata": {},
   "outputs": [],
   "source": [
    "pred_y,methyatlas = Oncoder.predict(test_x,model)"
   ]
  },
  {
   "cell_type": "code",
   "execution_count": null,
   "id": "16da3843-9334-4c18-9819-8df0bbf3f13c",
   "metadata": {},
   "outputs": [],
   "source": [
    "pred_y"
   ]
  },
  {
   "cell_type": "markdown",
   "id": "782999d7-41b0-4a86-9fe6-a9a08f0daffc",
   "metadata": {},
   "source": [
    "Loading Oncoder for predicting read data."
   ]
  },
  {
   "cell_type": "code",
   "execution_count": null,
   "id": "f9ccab75-5838-4244-a4b6-00bc023b8729",
   "metadata": {},
   "outputs": [],
   "source": [
    "model = torch.load('Oncoder.pth',map_location=device)"
   ]
  },
  {
   "cell_type": "code",
   "execution_count": null,
   "id": "5e7e5028-dd73-4da5-ac9b-4e1289503c05",
   "metadata": {},
   "outputs": [],
   "source": [
    "Normal_data = pd.read_csv('data/normal_data.tsv',sep='\\t',index_col=0,header=0).T.values\n",
    "HCC_data = pd.read_csv('data/HCC_data.tsv',sep='\\t',index_col=0,header=0).T.values"
   ]
  },
  {
   "cell_type": "code",
   "execution_count": null,
   "id": "aedf6551-ac2f-4b59-bc06-a0918735c4b7",
   "metadata": {},
   "outputs": [],
   "source": [
    "pred_y,methyatlas = Oncoder.predict(Normal_data,model)"
   ]
  },
  {
   "cell_type": "code",
   "execution_count": null,
   "id": "44c6e394-d771-4a7a-af77-5d315ec491c2",
   "metadata": {},
   "outputs": [],
   "source": [
    "pred_y"
   ]
  }
 ],
 "metadata": {
  "kernelspec": {
   "display_name": "Python 3 (ipykernel)",
   "language": "python",
   "name": "python3"
  },
  "language_info": {
   "codemirror_mode": {
    "name": "ipython",
    "version": 3
   },
   "file_extension": ".py",
   "mimetype": "text/x-python",
   "name": "python",
   "nbconvert_exporter": "python",
   "pygments_lexer": "ipython3",
   "version": "3.11.0"
  }
 },
 "nbformat": 4,
 "nbformat_minor": 5
}
